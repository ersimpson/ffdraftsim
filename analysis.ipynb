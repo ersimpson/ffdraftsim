{
 "cells": [
  {
   "cell_type": "code",
   "execution_count": 32,
   "id": "24fb9c5c-bee1-4022-b790-4cd08cc8220b",
   "metadata": {},
   "outputs": [],
   "source": [
    "import pandas as pd\n",
    "import seaborn as sns\n",
    "import scipy as sp\n",
    "import numpy as np\n",
    "import matplotlib.pyplot as plt"
   ]
  },
  {
   "cell_type": "code",
   "execution_count": 40,
   "id": "78a4b4a4-5478-4447-a986-fb19ffc5b7c4",
   "metadata": {},
   "outputs": [],
   "source": [
    "df = pd.read_csv(\"data/frontier_2023.csv\")"
   ]
  },
  {
   "cell_type": "code",
   "execution_count": 41,
   "id": "6bd0a864-8b90-4a50-ab0d-333059fcde70",
   "metadata": {},
   "outputs": [
    {
     "data": {
      "text/html": [
       "<div>\n",
       "<style scoped>\n",
       "    .dataframe tbody tr th:only-of-type {\n",
       "        vertical-align: middle;\n",
       "    }\n",
       "\n",
       "    .dataframe tbody tr th {\n",
       "        vertical-align: top;\n",
       "    }\n",
       "\n",
       "    .dataframe thead th {\n",
       "        text-align: right;\n",
       "    }\n",
       "</style>\n",
       "<table border=\"1\" class=\"dataframe\">\n",
       "  <thead>\n",
       "    <tr style=\"text-align: right;\">\n",
       "      <th></th>\n",
       "      <th>expected_return</th>\n",
       "      <th>risk</th>\n",
       "      <th>sharpe_ratio</th>\n",
       "      <th>team_players</th>\n",
       "    </tr>\n",
       "  </thead>\n",
       "  <tbody>\n",
       "    <tr>\n",
       "      <th>0</th>\n",
       "      <td>60.500740</td>\n",
       "      <td>20.878722</td>\n",
       "      <td>2.897722</td>\n",
       "      <td>Patrick Mahomes, Travis Etienne, Kenneth Walke...</td>\n",
       "    </tr>\n",
       "    <tr>\n",
       "      <th>1</th>\n",
       "      <td>56.100116</td>\n",
       "      <td>17.924293</td>\n",
       "      <td>3.129837</td>\n",
       "      <td>Trevor Lawrence, Jonathan Ward, Jamaal William...</td>\n",
       "    </tr>\n",
       "    <tr>\n",
       "      <th>2</th>\n",
       "      <td>41.023251</td>\n",
       "      <td>18.060345</td>\n",
       "      <td>2.271454</td>\n",
       "      <td>Lamar Jackson, D'Ernest Johnson, Damien Willia...</td>\n",
       "    </tr>\n",
       "    <tr>\n",
       "      <th>3</th>\n",
       "      <td>69.960637</td>\n",
       "      <td>19.664281</td>\n",
       "      <td>3.557752</td>\n",
       "      <td>Derek Carr, D'Ernest Johnson, Rachaad White, J...</td>\n",
       "    </tr>\n",
       "    <tr>\n",
       "      <th>4</th>\n",
       "      <td>41.916210</td>\n",
       "      <td>16.446334</td>\n",
       "      <td>2.548666</td>\n",
       "      <td>Joe Burrow, Tony Jones, James Cook, Greg Dortc...</td>\n",
       "    </tr>\n",
       "    <tr>\n",
       "      <th>...</th>\n",
       "      <td>...</td>\n",
       "      <td>...</td>\n",
       "      <td>...</td>\n",
       "      <td>...</td>\n",
       "    </tr>\n",
       "    <tr>\n",
       "      <th>9995</th>\n",
       "      <td>32.679347</td>\n",
       "      <td>16.484959</td>\n",
       "      <td>1.982374</td>\n",
       "      <td>Logan Woodside, Dare Ogunbowale, Alvin Kamara,...</td>\n",
       "    </tr>\n",
       "    <tr>\n",
       "      <th>9996</th>\n",
       "      <td>54.943307</td>\n",
       "      <td>19.242868</td>\n",
       "      <td>2.855256</td>\n",
       "      <td>Carson Wentz, Miles Sanders, Latavius Murray, ...</td>\n",
       "    </tr>\n",
       "    <tr>\n",
       "      <th>9997</th>\n",
       "      <td>47.760726</td>\n",
       "      <td>16.997093</td>\n",
       "      <td>2.809935</td>\n",
       "      <td>Derek Carr, D'Andre Swift, David Montgomery, V...</td>\n",
       "    </tr>\n",
       "    <tr>\n",
       "      <th>9998</th>\n",
       "      <td>36.126073</td>\n",
       "      <td>14.946485</td>\n",
       "      <td>2.417028</td>\n",
       "      <td>Sam Howell, Najee Harris, Gary Brightwell, All...</td>\n",
       "    </tr>\n",
       "    <tr>\n",
       "      <th>9999</th>\n",
       "      <td>27.435538</td>\n",
       "      <td>14.687645</td>\n",
       "      <td>1.867933</td>\n",
       "      <td>Marcus Mariota, Alex Armah, Zack Moss, Byron P...</td>\n",
       "    </tr>\n",
       "  </tbody>\n",
       "</table>\n",
       "<p>10000 rows × 4 columns</p>\n",
       "</div>"
      ],
      "text/plain": [
       "      expected_return       risk  sharpe_ratio  \\\n",
       "0           60.500740  20.878722      2.897722   \n",
       "1           56.100116  17.924293      3.129837   \n",
       "2           41.023251  18.060345      2.271454   \n",
       "3           69.960637  19.664281      3.557752   \n",
       "4           41.916210  16.446334      2.548666   \n",
       "...               ...        ...           ...   \n",
       "9995        32.679347  16.484959      1.982374   \n",
       "9996        54.943307  19.242868      2.855256   \n",
       "9997        47.760726  16.997093      2.809935   \n",
       "9998        36.126073  14.946485      2.417028   \n",
       "9999        27.435538  14.687645      1.867933   \n",
       "\n",
       "                                           team_players  \n",
       "0     Patrick Mahomes, Travis Etienne, Kenneth Walke...  \n",
       "1     Trevor Lawrence, Jonathan Ward, Jamaal William...  \n",
       "2     Lamar Jackson, D'Ernest Johnson, Damien Willia...  \n",
       "3     Derek Carr, D'Ernest Johnson, Rachaad White, J...  \n",
       "4     Joe Burrow, Tony Jones, James Cook, Greg Dortc...  \n",
       "...                                                 ...  \n",
       "9995  Logan Woodside, Dare Ogunbowale, Alvin Kamara,...  \n",
       "9996  Carson Wentz, Miles Sanders, Latavius Murray, ...  \n",
       "9997  Derek Carr, D'Andre Swift, David Montgomery, V...  \n",
       "9998  Sam Howell, Najee Harris, Gary Brightwell, All...  \n",
       "9999  Marcus Mariota, Alex Armah, Zack Moss, Byron P...  \n",
       "\n",
       "[10000 rows x 4 columns]"
      ]
     },
     "execution_count": 41,
     "metadata": {},
     "output_type": "execute_result"
    }
   ],
   "source": [
    "df"
   ]
  },
  {
   "cell_type": "code",
   "execution_count": 50,
   "id": "3ac27213-230d-4c4c-b158-90f51924e0f7",
   "metadata": {},
   "outputs": [
    {
     "data": {
      "text/html": [
       "<div>\n",
       "<style scoped>\n",
       "    .dataframe tbody tr th:only-of-type {\n",
       "        vertical-align: middle;\n",
       "    }\n",
       "\n",
       "    .dataframe tbody tr th {\n",
       "        vertical-align: top;\n",
       "    }\n",
       "\n",
       "    .dataframe thead th {\n",
       "        text-align: right;\n",
       "    }\n",
       "</style>\n",
       "<table border=\"1\" class=\"dataframe\">\n",
       "  <thead>\n",
       "    <tr style=\"text-align: right;\">\n",
       "      <th></th>\n",
       "      <th>expected_return</th>\n",
       "      <th>risk</th>\n",
       "      <th>sharpe_ratio</th>\n",
       "      <th>team_players</th>\n",
       "    </tr>\n",
       "  </thead>\n",
       "  <tbody>\n",
       "    <tr>\n",
       "      <th>1</th>\n",
       "      <td>56.100116</td>\n",
       "      <td>17.924293</td>\n",
       "      <td>3.129837</td>\n",
       "      <td>Trevor Lawrence, Jonathan Ward, Jamaal William...</td>\n",
       "    </tr>\n",
       "    <tr>\n",
       "      <th>3</th>\n",
       "      <td>69.960637</td>\n",
       "      <td>19.664281</td>\n",
       "      <td>3.557752</td>\n",
       "      <td>Derek Carr, D'Ernest Johnson, Rachaad White, J...</td>\n",
       "    </tr>\n",
       "    <tr>\n",
       "      <th>24</th>\n",
       "      <td>70.830232</td>\n",
       "      <td>21.385203</td>\n",
       "      <td>3.312114</td>\n",
       "      <td>Kyler Murray, Jamycal Hasty, Josh Jacobs, Terr...</td>\n",
       "    </tr>\n",
       "    <tr>\n",
       "      <th>33</th>\n",
       "      <td>64.564008</td>\n",
       "      <td>21.417183</td>\n",
       "      <td>3.014589</td>\n",
       "      <td>Deshaun Watson, Isiah Pacheco, Kenneth Gainwel...</td>\n",
       "    </tr>\n",
       "    <tr>\n",
       "      <th>55</th>\n",
       "      <td>65.787637</td>\n",
       "      <td>21.702010</td>\n",
       "      <td>3.031407</td>\n",
       "      <td>Patrick Mahomes, Keaontay Ingram, Latavius Mur...</td>\n",
       "    </tr>\n",
       "    <tr>\n",
       "      <th>...</th>\n",
       "      <td>...</td>\n",
       "      <td>...</td>\n",
       "      <td>...</td>\n",
       "      <td>...</td>\n",
       "    </tr>\n",
       "    <tr>\n",
       "      <th>9887</th>\n",
       "      <td>58.168804</td>\n",
       "      <td>18.928066</td>\n",
       "      <td>3.073151</td>\n",
       "      <td>Andy Dalton, Zonovan Knight, Josh Jacobs, Rash...</td>\n",
       "    </tr>\n",
       "    <tr>\n",
       "      <th>9916</th>\n",
       "      <td>60.613754</td>\n",
       "      <td>20.162466</td>\n",
       "      <td>3.006267</td>\n",
       "      <td>Kirk Cousins, Jamycal Hasty, James Cook, Chris...</td>\n",
       "    </tr>\n",
       "    <tr>\n",
       "      <th>9943</th>\n",
       "      <td>51.696480</td>\n",
       "      <td>16.826299</td>\n",
       "      <td>3.072362</td>\n",
       "      <td>Matthew Stafford, Jake Funk, Kenneth Walker, T...</td>\n",
       "    </tr>\n",
       "    <tr>\n",
       "      <th>9986</th>\n",
       "      <td>60.368627</td>\n",
       "      <td>19.557744</td>\n",
       "      <td>3.086687</td>\n",
       "      <td>Ryan Tannehill, Latavius Murray, D'Ernest John...</td>\n",
       "    </tr>\n",
       "    <tr>\n",
       "      <th>9994</th>\n",
       "      <td>51.871221</td>\n",
       "      <td>17.151925</td>\n",
       "      <td>3.024222</td>\n",
       "      <td>Justin Herbert, Jordan Mason, Josh Jacobs, Bra...</td>\n",
       "    </tr>\n",
       "  </tbody>\n",
       "</table>\n",
       "<p>327 rows × 4 columns</p>\n",
       "</div>"
      ],
      "text/plain": [
       "      expected_return       risk  sharpe_ratio  \\\n",
       "1           56.100116  17.924293      3.129837   \n",
       "3           69.960637  19.664281      3.557752   \n",
       "24          70.830232  21.385203      3.312114   \n",
       "33          64.564008  21.417183      3.014589   \n",
       "55          65.787637  21.702010      3.031407   \n",
       "...               ...        ...           ...   \n",
       "9887        58.168804  18.928066      3.073151   \n",
       "9916        60.613754  20.162466      3.006267   \n",
       "9943        51.696480  16.826299      3.072362   \n",
       "9986        60.368627  19.557744      3.086687   \n",
       "9994        51.871221  17.151925      3.024222   \n",
       "\n",
       "                                           team_players  \n",
       "1     Trevor Lawrence, Jonathan Ward, Jamaal William...  \n",
       "3     Derek Carr, D'Ernest Johnson, Rachaad White, J...  \n",
       "24    Kyler Murray, Jamycal Hasty, Josh Jacobs, Terr...  \n",
       "33    Deshaun Watson, Isiah Pacheco, Kenneth Gainwel...  \n",
       "55    Patrick Mahomes, Keaontay Ingram, Latavius Mur...  \n",
       "...                                                 ...  \n",
       "9887  Andy Dalton, Zonovan Knight, Josh Jacobs, Rash...  \n",
       "9916  Kirk Cousins, Jamycal Hasty, James Cook, Chris...  \n",
       "9943  Matthew Stafford, Jake Funk, Kenneth Walker, T...  \n",
       "9986  Ryan Tannehill, Latavius Murray, D'Ernest John...  \n",
       "9994  Justin Herbert, Jordan Mason, Josh Jacobs, Bra...  \n",
       "\n",
       "[327 rows x 4 columns]"
      ]
     },
     "execution_count": 50,
     "metadata": {},
     "output_type": "execute_result"
    }
   ],
   "source": [
    "good_df = df[df[\"sharpe_ratio\"] >= 3.0]\n",
    "# good_df = good_df[good_df[\"sharpe_ratio\"] <= 2.8]\n",
    "good_df"
   ]
  },
  {
   "cell_type": "code",
   "execution_count": 50,
   "id": "91f12c54-628b-4af6-9192-874ebfc39d41",
   "metadata": {},
   "outputs": [
    {
     "data": {
      "image/png": "[encoded data removed]",
      "text/plain": [
       "<Figure size 640x480 with 1 Axes>"
      ]
     },
     "metadata": {},
     "output_type": "display_data"
    }
   ],
   "source": [
    "x = \"risk\"\n",
    "y = \"expected_return\"\n",
    "with sns.axes_style(\"whitegrid\"):\n",
    "    sns.scatterplot(data=df, x=x, y=y)\n",
    "    plt.suptitle(\"Expected Return vs. Risk of 10000 Random Teams\")\n",
    "    plt.ylabel(\"Expected Return\")\n",
    "    plt.xlabel(\"Risk\")\n",
    "    plt.savefig(\"./imgs/frontier_2023.png\")"
   ]
  },
  {
   "cell_type": "code",
   "execution_count": 33,
   "id": "0f3588d9-4bbf-4470-a9c0-2cc568a33f17",
   "metadata": {},
   "outputs": [
    {
     "data": {
      "text/plain": [
       "<Axes: xlabel='sharpe_ratio', ylabel='Count'>"
      ]
     },
     "execution_count": 33,
     "metadata": {},
     "output_type": "execute_result"
    },
    {
     "data": {
      "image/png": "[encoded data removed]",
      "text/plain": [
       "<Figure size 640x480 with 1 Axes>"
      ]
     },
     "metadata": {},
     "output_type": "display_data"
    }
   ],
   "source": [
    "sns.histplot(data=df, x=x)"
   ]
  },
  {
   "cell_type": "code",
   "execution_count": 2,
   "id": "424d8822-7513-44cb-92b1-3cf79bc9689b",
   "metadata": {},
   "outputs": [],
   "source": [
    "uds_df = pd.read_csv(\"data/simulation_results_uncertainty_2023.csv\")"
   ]
  },
  {
   "cell_type": "code",
   "execution_count": 3,
   "id": "23fea50f-7550-43b7-9db4-97eeb50cb429",
   "metadata": {},
   "outputs": [
    {
     "data": {
      "text/html": [
       "<div>\n",
       "<style scoped>\n",
       "    .dataframe tbody tr th:only-of-type {\n",
       "        vertical-align: middle;\n",
       "    }\n",
       "\n",
       "    .dataframe tbody tr th {\n",
       "        vertical-align: top;\n",
       "    }\n",
       "\n",
       "    .dataframe thead th {\n",
       "        text-align: right;\n",
       "    }\n",
       "</style>\n",
       "<table border=\"1\" class=\"dataframe\">\n",
       "  <thead>\n",
       "    <tr style=\"text-align: right;\">\n",
       "      <th></th>\n",
       "      <th>trial</th>\n",
       "      <th>user_pick</th>\n",
       "      <th>team_players</th>\n",
       "      <th>expected_return</th>\n",
       "      <th>risk</th>\n",
       "      <th>sharpe_ratio</th>\n",
       "      <th>wins</th>\n",
       "      <th>losses</th>\n",
       "      <th>total_points</th>\n",
       "      <th>average_points</th>\n",
       "      <th>std</th>\n",
       "    </tr>\n",
       "  </thead>\n",
       "  <tbody>\n",
       "    <tr>\n",
       "      <th>0</th>\n",
       "      <td>0.0</td>\n",
       "      <td>2.0</td>\n",
       "      <td>Josh Allen, Najee Harris, Jonathan Taylor, Mil...</td>\n",
       "      <td>91.123142</td>\n",
       "      <td>23.404497</td>\n",
       "      <td>3.893403</td>\n",
       "      <td>5.0</td>\n",
       "      <td>13.0</td>\n",
       "      <td>1236.840000</td>\n",
       "      <td>68.713333</td>\n",
       "      <td>26.157807</td>\n",
       "    </tr>\n",
       "    <tr>\n",
       "      <th>1</th>\n",
       "      <td>1.0</td>\n",
       "      <td>4.0</td>\n",
       "      <td>Austin Ekeler, Josh Allen, Najee Harris, Miles...</td>\n",
       "      <td>83.834619</td>\n",
       "      <td>22.372905</td>\n",
       "      <td>3.747150</td>\n",
       "      <td>10.0</td>\n",
       "      <td>8.0</td>\n",
       "      <td>1522.340000</td>\n",
       "      <td>84.574444</td>\n",
       "      <td>21.520053</td>\n",
       "    </tr>\n",
       "    <tr>\n",
       "      <th>2</th>\n",
       "      <td>2.0</td>\n",
       "      <td>2.0</td>\n",
       "      <td>Josh Allen, Josh Jacobs, Najee Harris, Miles S...</td>\n",
       "      <td>90.174390</td>\n",
       "      <td>23.280208</td>\n",
       "      <td>3.873436</td>\n",
       "      <td>8.0</td>\n",
       "      <td>10.0</td>\n",
       "      <td>1415.039995</td>\n",
       "      <td>78.613333</td>\n",
       "      <td>20.950485</td>\n",
       "    </tr>\n",
       "    <tr>\n",
       "      <th>3</th>\n",
       "      <td>3.0</td>\n",
       "      <td>9.0</td>\n",
       "      <td>CeeDee Lamb, Patrick Mahomes, Travis Etienne, ...</td>\n",
       "      <td>83.594197</td>\n",
       "      <td>22.980104</td>\n",
       "      <td>3.637677</td>\n",
       "      <td>12.0</td>\n",
       "      <td>6.0</td>\n",
       "      <td>1844.300002</td>\n",
       "      <td>102.461111</td>\n",
       "      <td>22.508909</td>\n",
       "    </tr>\n",
       "    <tr>\n",
       "      <th>4</th>\n",
       "      <td>4.0</td>\n",
       "      <td>9.0</td>\n",
       "      <td>CeeDee Lamb, Patrick Mahomes, Travis Etienne, ...</td>\n",
       "      <td>86.496348</td>\n",
       "      <td>23.318913</td>\n",
       "      <td>3.709279</td>\n",
       "      <td>12.0</td>\n",
       "      <td>6.0</td>\n",
       "      <td>1936.319997</td>\n",
       "      <td>107.573333</td>\n",
       "      <td>20.523083</td>\n",
       "    </tr>\n",
       "    <tr>\n",
       "      <th>...</th>\n",
       "      <td>...</td>\n",
       "      <td>...</td>\n",
       "      <td>...</td>\n",
       "      <td>...</td>\n",
       "      <td>...</td>\n",
       "      <td>...</td>\n",
       "      <td>...</td>\n",
       "      <td>...</td>\n",
       "      <td>...</td>\n",
       "      <td>...</td>\n",
       "      <td>...</td>\n",
       "    </tr>\n",
       "    <tr>\n",
       "      <th>95</th>\n",
       "      <td>95.0</td>\n",
       "      <td>9.0</td>\n",
       "      <td>CeeDee Lamb, Patrick Mahomes, Travis Etienne, ...</td>\n",
       "      <td>78.931131</td>\n",
       "      <td>21.653817</td>\n",
       "      <td>3.645137</td>\n",
       "      <td>14.0</td>\n",
       "      <td>4.0</td>\n",
       "      <td>1767.800000</td>\n",
       "      <td>98.211111</td>\n",
       "      <td>13.451246</td>\n",
       "    </tr>\n",
       "    <tr>\n",
       "      <th>96</th>\n",
       "      <td>96.0</td>\n",
       "      <td>3.0</td>\n",
       "      <td>Patrick Mahomes, Najee Harris, Tee Higgins, Mi...</td>\n",
       "      <td>78.988396</td>\n",
       "      <td>23.129571</td>\n",
       "      <td>3.415039</td>\n",
       "      <td>9.0</td>\n",
       "      <td>9.0</td>\n",
       "      <td>1138.720002</td>\n",
       "      <td>63.262222</td>\n",
       "      <td>16.790427</td>\n",
       "    </tr>\n",
       "    <tr>\n",
       "      <th>97</th>\n",
       "      <td>97.0</td>\n",
       "      <td>9.0</td>\n",
       "      <td>CeeDee Lamb, Patrick Mahomes, Travis Etienne, ...</td>\n",
       "      <td>78.931131</td>\n",
       "      <td>21.653817</td>\n",
       "      <td>3.645137</td>\n",
       "      <td>17.0</td>\n",
       "      <td>1.0</td>\n",
       "      <td>1767.800000</td>\n",
       "      <td>98.211111</td>\n",
       "      <td>13.451246</td>\n",
       "    </tr>\n",
       "    <tr>\n",
       "      <th>98</th>\n",
       "      <td>98.0</td>\n",
       "      <td>2.0</td>\n",
       "      <td>Josh Allen, Najee Harris, Rhamondre Stevenson,...</td>\n",
       "      <td>86.625694</td>\n",
       "      <td>22.233629</td>\n",
       "      <td>3.896156</td>\n",
       "      <td>6.0</td>\n",
       "      <td>12.0</td>\n",
       "      <td>1226.140000</td>\n",
       "      <td>68.118889</td>\n",
       "      <td>21.661925</td>\n",
       "    </tr>\n",
       "    <tr>\n",
       "      <th>99</th>\n",
       "      <td>99.0</td>\n",
       "      <td>5.0</td>\n",
       "      <td>Austin Ekeler, Josh Allen, Najee Harris, D.J. ...</td>\n",
       "      <td>88.752321</td>\n",
       "      <td>23.452644</td>\n",
       "      <td>3.784321</td>\n",
       "      <td>9.0</td>\n",
       "      <td>9.0</td>\n",
       "      <td>1628.439996</td>\n",
       "      <td>90.468889</td>\n",
       "      <td>18.782836</td>\n",
       "    </tr>\n",
       "  </tbody>\n",
       "</table>\n",
       "<p>100 rows × 11 columns</p>\n",
       "</div>"
      ],
      "text/plain": [
       "    trial  user_pick                                       team_players  \\\n",
       "0     0.0        2.0  Josh Allen, Najee Harris, Jonathan Taylor, Mil...   \n",
       "1     1.0        4.0  Austin Ekeler, Josh Allen, Najee Harris, Miles...   \n",
       "2     2.0        2.0  Josh Allen, Josh Jacobs, Najee Harris, Miles S...   \n",
       "3     3.0        9.0  CeeDee Lamb, Patrick Mahomes, Travis Etienne, ...   \n",
       "4     4.0        9.0  CeeDee Lamb, Patrick Mahomes, Travis Etienne, ...   \n",
       "..    ...        ...                                                ...   \n",
       "95   95.0        9.0  CeeDee Lamb, Patrick Mahomes, Travis Etienne, ...   \n",
       "96   96.0        3.0  Patrick Mahomes, Najee Harris, Tee Higgins, Mi...   \n",
       "97   97.0        9.0  CeeDee Lamb, Patrick Mahomes, Travis Etienne, ...   \n",
       "98   98.0        2.0  Josh Allen, Najee Harris, Rhamondre Stevenson,...   \n",
       "99   99.0        5.0  Austin Ekeler, Josh Allen, Najee Harris, D.J. ...   \n",
       "\n",
       "    expected_return       risk  sharpe_ratio  wins  losses  total_points  \\\n",
       "0         91.123142  23.404497      3.893403   5.0    13.0   1236.840000   \n",
       "1         83.834619  22.372905      3.747150  10.0     8.0   1522.340000   \n",
       "2         90.174390  23.280208      3.873436   8.0    10.0   1415.039995   \n",
       "3         83.594197  22.980104      3.637677  12.0     6.0   1844.300002   \n",
       "4         86.496348  23.318913      3.709279  12.0     6.0   1936.319997   \n",
       "..              ...        ...           ...   ...     ...           ...   \n",
       "95        78.931131  21.653817      3.645137  14.0     4.0   1767.800000   \n",
       "96        78.988396  23.129571      3.415039   9.0     9.0   1138.720002   \n",
       "97        78.931131  21.653817      3.645137  17.0     1.0   1767.800000   \n",
       "98        86.625694  22.233629      3.896156   6.0    12.0   1226.140000   \n",
       "99        88.752321  23.452644      3.784321   9.0     9.0   1628.439996   \n",
       "\n",
       "    average_points        std  \n",
       "0        68.713333  26.157807  \n",
       "1        84.574444  21.520053  \n",
       "2        78.613333  20.950485  \n",
       "3       102.461111  22.508909  \n",
       "4       107.573333  20.523083  \n",
       "..             ...        ...  \n",
       "95       98.211111  13.451246  \n",
       "96       63.262222  16.790427  \n",
       "97       98.211111  13.451246  \n",
       "98       68.118889  21.661925  \n",
       "99       90.468889  18.782836  \n",
       "\n",
       "[100 rows x 11 columns]"
      ]
     },
     "execution_count": 3,
     "metadata": {},
     "output_type": "execute_result"
    }
   ],
   "source": [
    "uds_df"
   ]
  },
  {
   "cell_type": "code",
   "execution_count": 51,
   "id": "f54db590-48b1-46ae-921b-7ccced101109",
   "metadata": {},
   "outputs": [
    {
     "data": {
      "image/png": "[encoded data removed]",
      "text/plain": [
       "<Figure size 640x480 with 1 Axes>"
      ]
     },
     "metadata": {},
     "output_type": "display_data"
    }
   ],
   "source": [
    "with sns.axes_style(\"whitegrid\"):\n",
    "    sns.histplot(uds_df[\"total_points\"])\n",
    "    sns.histplot(eds_df[\"total_points\"])\n",
    "    plt.suptitle(\"Distribution of Total Points Scored (N = 100)\")\n",
    "    plt.xlabel(\"Total Points\")\n",
    "    plt.legend([\"Urgency Draft Strategy\", \"Expert Draft Strategy\"])\n",
    "    plt.savefig(\"./imgs/draft_strategy_dists_2023.png\")"
   ]
  },
  {
   "cell_type": "code",
   "execution_count": 5,
   "id": "f8ff4ab2-ce39-43f6-9c96-848428ab65f6",
   "metadata": {},
   "outputs": [],
   "source": [
    "eds_df = pd.read_csv(\"data/simulation_results_uncertaint_2023.csv\")"
   ]
  },
  {
   "cell_type": "code",
   "execution_count": 20,
   "id": "8c04e379-2ce0-4aa7-9008-98c7dc826ff5",
   "metadata": {},
   "outputs": [
    {
     "data": {
      "text/plain": [
       "count     100.000000\n",
       "mean     1454.252799\n",
       "std       160.957577\n",
       "min      1067.899999\n",
       "25%      1367.269999\n",
       "50%      1466.730001\n",
       "75%      1560.185000\n",
       "max      1804.020000\n",
       "Name: total_points, dtype: float64"
      ]
     },
     "execution_count": 20,
     "metadata": {},
     "output_type": "execute_result"
    }
   ],
   "source": [
    "eds_df[\"total_points\"].describe()"
   ]
  },
  {
   "cell_type": "code",
   "execution_count": 11,
   "id": "5157eacc-3041-4bea-9408-1ba23618bb2b",
   "metadata": {},
   "outputs": [
    {
     "data": {
      "text/plain": [
       "count    100.000000\n",
       "mean       9.140000\n",
       "std        2.745133\n",
       "min        3.000000\n",
       "25%        7.000000\n",
       "50%        9.000000\n",
       "75%       11.000000\n",
       "max       16.000000\n",
       "Name: wins, dtype: float64"
      ]
     },
     "execution_count": 11,
     "metadata": {},
     "output_type": "execute_result"
    }
   ],
   "source": [
    "eds_df[\"wins\"].describe()"
   ]
  },
  {
   "cell_type": "code",
   "execution_count": 12,
   "id": "cf18cb59-498e-4c17-9de7-cfcecc3075b0",
   "metadata": {},
   "outputs": [],
   "source": [
    "m1 = 9.6\n",
    "m2 = 9.14\n",
    "s1 = 3.440695\n",
    "s2 = 2.745133\n",
    "m = 100\n",
    "n = 100\n",
    "v1 = np.power(s1, 2)\n",
    "v2 = np.power(s2, 2)\n",
    "s1_norm = v1 / (m*(m - 1))\n",
    "s2_norm = v1 / (n*(n - 1))\n",
    "s1_vnorm = (1 / np.power(m - 1, 3)) * np.power(v1 / m, 2)\n",
    "s2_vnorm = (1 / np.power(n - 1, 3)) * np.power(v2 / n, 2)\n",
    "v = np.power(s1_norm + s2_norm, 2) / (s1_vnorm + s2_vnorm)\n",
    "t = (m1 - m2) / np.sqrt(s1_norm + s2_norm)"
   ]
  },
  {
   "cell_type": "code",
   "execution_count": 13,
   "id": "08e71411-d539-46ae-b41c-8d7751345fe9",
   "metadata": {},
   "outputs": [
    {
     "data": {
      "text/plain": [
       "np.float64(9.406200997990696)"
      ]
     },
     "execution_count": 13,
     "metadata": {},
     "output_type": "execute_result"
    }
   ],
   "source": [
    "t"
   ]
  },
  {
   "cell_type": "code",
   "execution_count": 14,
   "id": "431e7e60-d0f5-4a6c-a2ba-88b4ca484238",
   "metadata": {},
   "outputs": [
    {
     "data": {
      "text/plain": [
       "np.float64(281.81052691208254)"
      ]
     },
     "execution_count": 14,
     "metadata": {},
     "output_type": "execute_result"
    }
   ],
   "source": [
    "v"
   ]
  },
  {
   "cell_type": "code",
   "execution_count": 18,
   "id": "f0cebf72-bc9d-4038-8ae7-dfd7053e3875",
   "metadata": {},
   "outputs": [
    {
     "data": {
      "text/plain": [
       "np.float64(0.0)"
      ]
     },
     "execution_count": 18,
     "metadata": {},
     "output_type": "execute_result"
    }
   ],
   "source": [
    "1 - sp.stats.t.cdf(t, v)"
   ]
  },
  {
   "cell_type": "code",
   "execution_count": 19,
   "id": "69d4cf37-2704-4408-9cc1-2c26ad8640e9",
   "metadata": {},
   "outputs": [
    {
     "data": {
      "text/plain": [
       "np.float64(9.395274197847917e-19)"
      ]
     },
     "execution_count": 19,
     "metadata": {},
     "output_type": "execute_result"
    }
   ],
   "source": [
    "sp.stats.t.sf(t, v)"
   ]
  },
  {
   "cell_type": "code",
   "execution_count": null,
   "id": "4e889bea-7cd3-4a87-a4ed-74981a57c0b3",
   "metadata": {},
   "outputs": [],
   "source": []
  },
  {
   "cell_type": "code",
   "execution_count": null,
   "id": "7f1b3e73-d598-4508-a497-4ef8629c04a1",
   "metadata": {},
   "outputs": [],
   "source": []
  }
 ],
 "metadata": {
  "kernelspec": {
   "display_name": "Python 3 (ipykernel)",
   "language": "python",
   "name": "python3"
  },
  "language_info": {
   "codemirror_mode": {
    "name": "ipython",
    "version": 3
   },
   "file_extension": ".py",
   "mimetype": "text/x-python",
   "name": "python",
   "nbconvert_exporter": "python",
   "pygments_lexer": "ipython3",
   "version": "3.12.3"
  }
 },
 "nbformat": 4,
 "nbformat_minor": 5
}
